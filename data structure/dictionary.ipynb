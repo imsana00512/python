{
 "cells": [
  {
   "cell_type": "code",
   "execution_count": 5,
   "metadata": {},
   "outputs": [
    {
     "name": "stdout",
     "output_type": "stream",
     "text": [
      "{'name': 'sana', 'age': 20, 'city': 'lucknow', 'marks': 60, 'roll no': 12, 'class': 'physics'}\n"
     ]
    }
   ],
   "source": [
    "student={\n",
    "    \"name\":\"sana\",\n",
    "    \"age\":20,\n",
    "    \"city\":\"lucknow\",\n",
    "    \"marks\": 60,\n",
    "    \"roll no\": 12,\n",
    "    \"class\":\"physics\"\n",
    "}\n",
    "print(student)\n"
   ]
  },
  {
   "cell_type": "markdown",
   "metadata": {},
   "source": [
    "- how to declare it\n",
    "- how to access key and values of a dictionary\n",
    "- how to use loops in dictionary\n",
    "- indexing in dictionary\n"
   ]
  },
  {
   "cell_type": "code",
   "execution_count": 2,
   "metadata": {},
   "outputs": [
    {
     "name": "stdout",
     "output_type": "stream",
     "text": [
      "{'lucknow': [25, 30, 35], 'delhi': [30, 35, 40], 'mumbai': [35, 40, 45]}\n",
      "average temperature of delhi is : 35.0\n"
     ]
    }
   ],
   "source": [
    "\n",
    "\n",
    "print(temp)\n",
    "\n",
    "print('average temperature of delhi is :', sum(temp['delhi'])/len(temp['delhi']))"
   ]
  },
  {
   "cell_type": "code",
   "execution_count": 7,
   "metadata": {},
   "outputs": [
    {
     "name": "stdout",
     "output_type": "stream",
     "text": [
      "{'name': 'sana', 'age': 20, 'marks': 60, 'city': 'lucknow'}\n"
     ]
    }
   ],
   "source": [
    "info=dict(name=\"sana\",age=20,marks=60,city=\"lucknow\")\n",
    "print(info)"
   ]
  },
  {
   "cell_type": "code",
   "execution_count": 8,
   "metadata": {},
   "outputs": [
    {
     "name": "stdout",
     "output_type": "stream",
     "text": [
      "{'name': 'sana', 'age': 20, 'rollno': 22, 'marks': 60}\n"
     ]
    }
   ],
   "source": [
    "info2=dict(name=input(\"enter a name\",),age=int(input(\"enter a age:\")),rollno=int(input(\"enter a roll no:\")),marks=int(input(\"enter a marks:\")))\n",
    "print(info2)"
   ]
  },
  {
   "cell_type": "code",
   "execution_count": 9,
   "metadata": {},
   "outputs": [
    {
     "name": "stdout",
     "output_type": "stream",
     "text": [
      "sana\n",
      "20\n"
     ]
    }
   ],
   "source": [
    "#1st method to access value through its key\n",
    "print(info2['name'])\n",
    "print(info2['age'])"
   ]
  },
  {
   "cell_type": "code",
   "execution_count": 10,
   "metadata": {},
   "outputs": [
    {
     "name": "stdout",
     "output_type": "stream",
     "text": [
      "sana\n",
      "20\n"
     ]
    }
   ],
   "source": [
    "#2nd method to access value through its key\n",
    "print(info2.get('name'))\n",
    "print(info2.get('age'))"
   ]
  },
  {
   "cell_type": "code",
   "execution_count": 11,
   "metadata": {},
   "outputs": [
    {
     "name": "stdout",
     "output_type": "stream",
     "text": [
      "{'name': 'sana', 'age': 20, 'city': 'lucknow', 'marks': 60, 'roll no': 12, 'class': 'physics'}\n"
     ]
    }
   ],
   "source": [
    "#to add items in a dictionary\n",
    "student['city'] = 'lucknow'\n",
    "print(student)"
   ]
  },
  {
   "cell_type": "code",
   "execution_count": 12,
   "metadata": {},
   "outputs": [
    {
     "name": "stdout",
     "output_type": "stream",
     "text": [
      "dict_keys(['name', 'age', 'city', 'marks', 'roll no', 'class'])\n",
      "dict_values(['sana', 20, 'lucknow', 60, 12, 'physics'])\n"
     ]
    }
   ],
   "source": [
    "print(student.keys())\n",
    "print(student.values())"
   ]
  },
  {
   "cell_type": "code",
   "execution_count": 13,
   "metadata": {},
   "outputs": [
    {
     "name": "stdout",
     "output_type": "stream",
     "text": [
      "name\n",
      "age\n",
      "city\n",
      "marks\n",
      "roll no\n",
      "class\n"
     ]
    }
   ],
   "source": [
    "for k in student:\n",
    "    print(k)"
   ]
  },
  {
   "cell_type": "code",
   "execution_count": 16,
   "metadata": {},
   "outputs": [
    {
     "name": "stdout",
     "output_type": "stream",
     "text": [
      "name sana\n",
      "age 20\n",
      "city lucknow\n",
      "marks 60\n",
      "roll no 12\n",
      "class physics\n"
     ]
    }
   ],
   "source": [
    "for k,v in student.items():\n",
    "    print(k,v)\n",
    "    "
   ]
  },
  {
   "cell_type": "code",
   "execution_count": 1,
   "metadata": {},
   "outputs": [
    {
     "name": "stdout",
     "output_type": "stream",
     "text": [
      "{'emp001': {'name': 'sana', 'age': 20, 'dept': 'HR'}, 'emp002': {'name': 'sajiya', 'age': 23, 'dept': 'manager'}, 'emp003': {'name': 'saba', 'age': 24, 'dept': 'depty manager'}}\n"
     ]
    }
   ],
   "source": [
    "company={\n",
    "    \"emp001\":{\n",
    "        \"name\":\"sana\",\n",
    "        \"age\":20,\n",
    "        \"dept\":\"HR\"\n",
    "    },\n",
    "    \"emp002\":{\n",
    "        \"name\":\"sajiya\",\n",
    "        \"age\":23,\n",
    "        \"dept\":\"manager\"\n",
    "    },\n",
    "    \"emp003\":{\n",
    "        \"name\":\"saba\",\n",
    "        \"age\":24,\n",
    "        \"dept\":\"depty manager\"\n",
    "    },\n",
    "    \n",
    "}\n",
    "print(company)\n",
    "\n"
   ]
  }
 ],
 "metadata": {
  "kernelspec": {
   "display_name": "base",
   "language": "python",
   "name": "python3"
  },
  "language_info": {
   "codemirror_mode": {
    "name": "ipython",
    "version": 3
   },
   "file_extension": ".py",
   "mimetype": "text/x-python",
   "name": "python",
   "nbconvert_exporter": "python",
   "pygments_lexer": "ipython3",
   "version": "3.12.8"
  }
 },
 "nbformat": 4,
 "nbformat_minor": 2
}
