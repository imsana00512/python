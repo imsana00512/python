{
 "cells": [
  {
   "cell_type": "markdown",
   "metadata": {},
   "source": [
    "FUNCTION TYPES"
   ]
  },
  {
   "cell_type": "markdown",
   "metadata": {},
   "source": [
    "- parameterized\n",
    "- non-parameterized\n",
    "- return\n",
    "- non-return\n",
    "- default parameters"
   ]
  },
  {
   "cell_type": "code",
   "execution_count": 2,
   "metadata": {},
   "outputs": [],
   "source": [
    "def my_func():\n",
    "    print(\"hello from my func\")\n",
    "    print(\"this is a function\")\n",
    "    print(\"goodbye\")"
   ]
  },
  {
   "cell_type": "code",
   "execution_count": 3,
   "metadata": {},
   "outputs": [
    {
     "name": "stdout",
     "output_type": "stream",
     "text": [
      "hello from my func\n",
      "this is a function\n",
      "goodbye\n"
     ]
    }
   ],
   "source": [
    "my_func()"
   ]
  },
  {
   "cell_type": "code",
   "execution_count": 4,
   "metadata": {},
   "outputs": [
    {
     "name": "stdout",
     "output_type": "stream",
     "text": [
      "hello john\n",
      "goodbye john\n"
     ]
    }
   ],
   "source": [
    "#parameterized function\n",
    "def name(name):\n",
    "    print(\"hello\",name)\n",
    "    print(\"goodbye\",name)\n",
    "name(\"john\")"
   ]
  },
  {
   "cell_type": "code",
   "execution_count": 6,
   "metadata": {},
   "outputs": [
    {
     "name": "stdout",
     "output_type": "stream",
     "text": [
      "30.0\n"
     ]
    }
   ],
   "source": [
    "def average(a,b,c):\n",
    "    print((a+b+c)/2)\n",
    "average(10,20,30)"
   ]
  },
  {
   "cell_type": "code",
   "execution_count": 8,
   "metadata": {},
   "outputs": [
    {
     "name": "stdout",
     "output_type": "stream",
     "text": [
      "25\n"
     ]
    }
   ],
   "source": [
    "#return functions\n",
    "def func(x):\n",
    "    return 5*x\n",
    "a = func(5)\n",
    "print(a)"
   ]
  },
  {
   "cell_type": "code",
   "execution_count": 9,
   "metadata": {},
   "outputs": [
    {
     "name": "stdout",
     "output_type": "stream",
     "text": [
      "None\n"
     ]
    }
   ],
   "source": [
    "#non-return functions\n",
    "def func(x):\n",
    "    5*x\n",
    "a = func(5)\n",
    "print(a)"
   ]
  },
  {
   "cell_type": "code",
   "execution_count": 10,
   "metadata": {},
   "outputs": [],
   "source": [
    "#default parameterized function\n",
    "def my_country(country = \"India\"):\n",
    "    print(\"I am from\",country)\n",
    "    "
   ]
  },
  {
   "cell_type": "code",
   "execution_count": 11,
   "metadata": {},
   "outputs": [
    {
     "name": "stdout",
     "output_type": "stream",
     "text": [
      "I am from USA\n",
      "I am from UK\n",
      "I am from India\n",
      "I am from Canada\n"
     ]
    }
   ],
   "source": [
    "my_country(\"USA\")\n",
    "my_country(\"UK\")\n",
    "my_country()\n",
    "my_country(\"Canada\")"
   ]
  },
  {
   "cell_type": "code",
   "execution_count": 12,
   "metadata": {},
   "outputs": [
    {
     "name": "stdout",
     "output_type": "stream",
     "text": [
      "apple\n",
      "mango\n",
      "banana\n",
      "cherry\n",
      "pineapple\n"
     ]
    }
   ],
   "source": [
    "def fruits(fruit):\n",
    "    for x in fruit:\n",
    "        print(x)\n",
    "fruits([\"apple\",\"mango\",\"banana\",\"cherry\",\"pineapple\"])"
   ]
  },
  {
   "cell_type": "code",
   "execution_count": 13,
   "metadata": {},
   "outputs": [
    {
     "name": "stdout",
     "output_type": "stream",
     "text": [
      "even\n"
     ]
    }
   ],
   "source": [
    "def even_odd(x):\n",
    "    if x % 2 == 0:\n",
    "        print(\"even\")\n",
    "    else:\n",
    "        print(\"odd\")\n",
    "even_odd(4)"
   ]
  },
  {
   "cell_type": "code",
   "execution_count": 14,
   "metadata": {},
   "outputs": [],
   "source": [
    "#lambda function for even odd numbers\n",
    "even_odd = lambda x:\"even\"if x % 2 ==0 else\"odd\"\n",
    "    "
   ]
  },
  {
   "cell_type": "code",
   "execution_count": 15,
   "metadata": {},
   "outputs": [
    {
     "name": "stdout",
     "output_type": "stream",
     "text": [
      "True\n"
     ]
    }
   ],
   "source": [
    "even = lambda a : a % 2 ==0\n",
    "print(even(6))"
   ]
  },
  {
   "cell_type": "markdown",
   "metadata": {},
   "source": [
    "#functions test question"
   ]
  },
  {
   "cell_type": "markdown",
   "metadata": {},
   "source": [
    "- check a number is prime or not\n",
    "- convert temperature celcius to farenhiet\n",
    "- find maximum of three numbers\n",
    "- calculate factorial\n",
    "- reverse of a string\n",
    "- count vowels in a string\n",
    "- calculate BMI(body mass index)"
   ]
  },
  {
   "cell_type": "code",
   "execution_count": 3,
   "metadata": {},
   "outputs": [
    {
     "name": "stdout",
     "output_type": "stream",
     "text": [
      "3 is prime number\n"
     ]
    }
   ],
   "source": [
    "def check_prime(any):\n",
    "    num = int(input(\"enter a num\"))\n",
    "    count = 0\n",
    "    for i in range(1,num+1):\n",
    "        if num % i == 0:\n",
    "            count = count + 1\n",
    "    if count == 2:\n",
    "        print(num,\"is prime number\")\n",
    "    else:\n",
    "        print(num,\"is not a prime numbers\")\n",
    "check_prime(any)"
   ]
  },
  {
   "cell_type": "code",
   "execution_count": 4,
   "metadata": {},
   "outputs": [
    {
     "name": "stdout",
     "output_type": "stream",
     "text": [
      "c is max\n"
     ]
    }
   ],
   "source": [
    "def max_num(a,b,c):\n",
    "    if a>b and a>c:\n",
    "        print('a is max')\n",
    "    elif b>a and b>c:\n",
    "        print('b is max')\n",
    "    else:\n",
    "        print('c is max')\n",
    "max_num(5,7,8)"
   ]
  },
  {
   "cell_type": "code",
   "execution_count": 5,
   "metadata": {},
   "outputs": [
    {
     "name": "stdout",
     "output_type": "stream",
     "text": [
      "temperature is:{0} 113.0\n"
     ]
    }
   ],
   "source": [
    "def convert_temp(any):\n",
    "    celcius = float(input(\"enter a temperature: \"))\n",
    "    farenhiet = (celcius * 9/5)+32\n",
    "    print(\"temperature is:{0}\",farenhiet)\n",
    "convert_temp(any)    "
   ]
  },
  {
   "cell_type": "code",
   "execution_count": null,
   "metadata": {},
   "outputs": [],
   "source": [
    "def cal_fact(n):\n",
    "    fact = 1\n",
    "    for i in range(1,)"
   ]
  }
 ],
 "metadata": {
  "kernelspec": {
   "display_name": "base",
   "language": "python",
   "name": "python3"
  },
  "language_info": {
   "codemirror_mode": {
    "name": "ipython",
    "version": 3
   },
   "file_extension": ".py",
   "mimetype": "text/x-python",
   "name": "python",
   "nbconvert_exporter": "python",
   "pygments_lexer": "ipython3",
   "version": "3.12.8"
  }
 },
 "nbformat": 4,
 "nbformat_minor": 2
}
