{
 "cells": [
  {
   "cell_type": "code",
   "execution_count": 1,
   "metadata": {},
   "outputs": [
    {
     "name": "stdout",
     "output_type": "stream",
     "text": [
      "orange\n",
      "apple\n",
      "mango\n",
      "pear\n"
     ]
    }
   ],
   "source": [
    "fruits = ['orange','apple','mango','pear','ladyfinger','kiwi','grapes']\n",
    "for x in fruits:\n",
    "    if x == 'ladyfinger':\n",
    "        break\n",
    "    print(x)\n",
    "          "
   ]
  },
  {
   "cell_type": "code",
   "execution_count": 2,
   "metadata": {},
   "outputs": [
    {
     "name": "stdout",
     "output_type": "stream",
     "text": [
      "orange\n",
      "apple\n",
      "kiwi\n",
      "banana\n"
     ]
    }
   ],
   "source": [
    "fruits = ['orange','apple','ladyfinger','kiwi','banana']\n",
    "for x in fruits:\n",
    "    if x == 'ladyfinger':\n",
    "        continue\n",
    "    print(x)\n"
   ]
  },
  {
   "cell_type": "markdown",
   "metadata": {},
   "source": [
    "indexing"
   ]
  },
  {
   "cell_type": "code",
   "execution_count": 3,
   "metadata": {},
   "outputs": [
    {
     "name": "stdout",
     "output_type": "stream",
     "text": [
      "facebook\n"
     ]
    }
   ],
   "source": [
    "apps = ['candycrush','purpleplace','snapchat','instagram','facebook','bubbleshooter','telegram','truecaller']\n",
    "print(apps[4])\n"
   ]
  },
  {
   "cell_type": "markdown",
   "metadata": {},
   "source": [
    "Slicing"
   ]
  },
  {
   "cell_type": "code",
   "execution_count": 5,
   "metadata": {},
   "outputs": [
    {
     "name": "stdout",
     "output_type": "stream",
     "text": [
      "['snapchat', 'instagram', 'facebook']\n",
      "['purpleplace', 'instagram', 'bubbleshooter', 'truecaller']\n",
      "['facebook', 'bubbleshooter', 'telegram', 'truecaller']\n",
      "['candycrush', 'purpleplace', 'snapchat', 'instagram', 'facebook', 'bubbleshooter', 'telegram', 'truecaller']\n",
      "['candycrush', 'purpleplace', 'snapchat', 'instagram', 'facebook', 'bubbleshooter', 'telegram', 'truecaller']\n"
     ]
    }
   ],
   "source": [
    "print(apps[2:5])\n",
    "print(apps[1:10:2])\n",
    "print(apps[4:])\n",
    "print(apps[:9])\n",
    "print(apps[:])"
   ]
  },
  {
   "cell_type": "markdown",
   "metadata": {},
   "source": [
    "list methods\n",
    "- append() : to add an element at the end of the list\n",
    "- insert() : to tadd an element at any specific position\n",
    "- pop() : to delete an item using the index position\n",
    "- remove() : to delete an item using it's name\n",
    "- sort() : to sort the list in a particular order\n",
    "- copy() : to make a copy of the list\n",
    "- extend() : to combine to list into a one list\n",
    "- clear() : delete all element from the list"
   ]
  },
  {
   "cell_type": "code",
   "execution_count": 6,
   "metadata": {},
   "outputs": [
    {
     "name": "stdout",
     "output_type": "stream",
     "text": [
      "['candycrush', 'purpleplace', 'snapchat', 'instagram', 'facebook', 'bubbleshooter', 'telegram', 'truecaller']\n"
     ]
    }
   ],
   "source": [
    "print(apps)"
   ]
  },
  {
   "cell_type": "code",
   "execution_count": 7,
   "metadata": {},
   "outputs": [
    {
     "name": "stdout",
     "output_type": "stream",
     "text": [
      "['candycrush', 'purpleplace', 'snapchat', 'instagram', 'facebook', 'bubbleshooter', 'telegram', 'truecaller', 'whatsapp']\n"
     ]
    }
   ],
   "source": [
    "apps.append('whatsapp')\n",
    "print(apps)"
   ]
  },
  {
   "cell_type": "code",
   "execution_count": 8,
   "metadata": {},
   "outputs": [
    {
     "name": "stdout",
     "output_type": "stream",
     "text": [
      "['candycrush', 'purpleplace', 'snapchat', 'radio', 'instagram', 'facebook', 'bubbleshooter', 'telegram', 'truecaller', 'whatsapp']\n"
     ]
    }
   ],
   "source": [
    "apps.insert(3,'radio')\n",
    "print(apps)"
   ]
  },
  {
   "cell_type": "code",
   "execution_count": 9,
   "metadata": {},
   "outputs": [
    {
     "name": "stdout",
     "output_type": "stream",
     "text": [
      "['candycrush', 'purpleplace', 'snapchat', 'radio', 'instagram', 'facebook', 'bubbleshooter', 'truecaller', 'whatsapp']\n"
     ]
    }
   ],
   "source": [
    "apps.pop(-3)\n",
    "print(apps)\n",
    "         "
   ]
  },
  {
   "cell_type": "code",
   "execution_count": 11,
   "metadata": {},
   "outputs": [
    {
     "name": "stdout",
     "output_type": "stream",
     "text": [
      "['candycrush', 'purpleplace', 'snapchat', 'radio', 'instagram', 'facebook', 'truecaller', 'whatsapp']\n"
     ]
    }
   ],
   "source": [
    "apps.remove('bubbleshooter')\n",
    "print(apps)"
   ]
  },
  {
   "cell_type": "code",
   "execution_count": 12,
   "metadata": {},
   "outputs": [
    {
     "name": "stdout",
     "output_type": "stream",
     "text": [
      "['candycrush', 'facebook', 'instagram', 'purpleplace', 'radio', 'snapchat', 'truecaller', 'whatsapp']\n"
     ]
    }
   ],
   "source": [
    "apps.sort()\n",
    "print(apps)"
   ]
  },
  {
   "cell_type": "code",
   "execution_count": 14,
   "metadata": {},
   "outputs": [
    {
     "name": "stdout",
     "output_type": "stream",
     "text": [
      "['candycrush', 'facebook', 'instagram', 'purpleplace', 'radio', 'snapchat', 'truecaller', 'whatsapp']\n"
     ]
    }
   ],
   "source": [
    "apps2 = apps.copy()\n",
    "print(apps2)"
   ]
  },
  {
   "cell_type": "code",
   "execution_count": 15,
   "metadata": {},
   "outputs": [
    {
     "name": "stdout",
     "output_type": "stream",
     "text": [
      "['candycrush', 'facebook', 'instagram', 'purpleplace', 'radio', 'snapchat', 'truecaller', 'whatsapp', 'candycrush', 'facebook', 'instagram', 'purpleplace', 'radio', 'snapchat', 'truecaller', 'whatsapp']\n"
     ]
    }
   ],
   "source": [
    "apps.extend(apps2)\n",
    "print(apps)"
   ]
  },
  {
   "cell_type": "code",
   "execution_count": 16,
   "metadata": {},
   "outputs": [],
   "source": [
    "apps2.clear()"
   ]
  },
  {
   "cell_type": "code",
   "execution_count": 17,
   "metadata": {},
   "outputs": [
    {
     "name": "stdout",
     "output_type": "stream",
     "text": [
      "[]\n"
     ]
    }
   ],
   "source": [
    "print(apps2)"
   ]
  }
 ],
 "metadata": {
  "kernelspec": {
   "display_name": "base",
   "language": "python",
   "name": "python3"
  },
  "language_info": {
   "codemirror_mode": {
    "name": "ipython",
    "version": 3
   },
   "file_extension": ".py",
   "mimetype": "text/x-python",
   "name": "python",
   "nbconvert_exporter": "python",
   "pygments_lexer": "ipython3",
   "version": "3.12.8"
  }
 },
 "nbformat": 4,
 "nbformat_minor": 2
}
