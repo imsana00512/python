{
 "cells": [
  {
   "cell_type": "code",
   "execution_count": 1,
   "metadata": {},
   "outputs": [],
   "source": [
    "import math"
   ]
  },
  {
   "cell_type": "code",
   "execution_count": 6,
   "metadata": {},
   "outputs": [
    {
     "name": "stdout",
     "output_type": "stream",
     "text": [
      "25.0\n",
      "125.0\n",
      "-0.4480736161291701\n",
      "-0.9938886539233752\n",
      "1.0\n",
      "5729.5779513082325\n",
      "2.080083823051904\n",
      "3.141592653589793\n",
      "3\n",
      "552\n"
     ]
    }
   ],
   "source": [
    "print(math.sqrt(625))\n",
    "print(math.pow(5,3))\n",
    "print(math.cos(90))\n",
    "print(math.sin(80))\n",
    "print(math.log10(10))\n",
    "print(math.degrees(100))\n",
    "print(math.cbrt(9))\n",
    "print(math.pi)\n",
    "print(math.gcd(12,45))\n",
    "print(math.lcm(24,46))"
   ]
  },
  {
   "cell_type": "code",
   "execution_count": 11,
   "metadata": {},
   "outputs": [
    {
     "name": "stdout",
     "output_type": "stream",
     "text": [
      "get a random number between 0 and 1: 0.4552808233348544\n"
     ]
    }
   ],
   "source": [
    "from random import random, randint, choice, shuffle\n",
    "print('get a random number between 0 and 1:', random())"
   ]
  },
  {
   "cell_type": "code",
   "execution_count": 9,
   "metadata": {},
   "outputs": [
    {
     "name": "stdout",
     "output_type": "stream",
     "text": [
      "get a randint number between 1 and 100: 74\n"
     ]
    }
   ],
   "source": [
    "print('get a randint number between 1 and 100:', randint(1,100))"
   ]
  },
  {
   "cell_type": "code",
   "execution_count": 13,
   "metadata": {},
   "outputs": [
    {
     "name": "stdout",
     "output_type": "stream",
     "text": [
      "get a random element from a list: 2\n",
      "shuffle a list: ['david', 'alice', 'bob', 'eve', 'charlie']\n"
     ]
    }
   ],
   "source": [
    "print('get a random element from a list:', choice([1,2,3,4,5]))\n",
    "names = ['alice','bob','charlie','david','eve']\n",
    "shuffle(names)\n",
    "print('shuffle a list:', names)"
   ]
  },
  {
   "cell_type": "code",
   "execution_count": 14,
   "metadata": {},
   "outputs": [],
   "source": [
    "from datetime import datetime as dt"
   ]
  },
  {
   "cell_type": "code",
   "execution_count": 15,
   "metadata": {},
   "outputs": [
    {
     "name": "stdout",
     "output_type": "stream",
     "text": [
      "current date and time: 2025-02-05 17:09:30.096910\n"
     ]
    }
   ],
   "source": [
    "print(\"current date and time:\", dt.now())"
   ]
  },
  {
   "cell_type": "code",
   "execution_count": 19,
   "metadata": {},
   "outputs": [
    {
     "name": "stdout",
     "output_type": "stream",
     "text": [
      "current date and time: 2025\n",
      "current  month: 2\n",
      "current day: 5\n",
      "current hour: 17\n",
      "current minute: 24\n"
     ]
    }
   ],
   "source": [
    "print(\"current date and time:\", dt.now().year)\n",
    "print(\"current  month:\", dt.now().month)\n",
    "print(\"current day:\", dt.now().day)\n",
    "print(\"current hour:\", dt.now().hour)\n",
    "print(\"current minute:\", dt.now().minute)\n"
   ]
  },
  {
   "cell_type": "code",
   "execution_count": null,
   "metadata": {},
   "outputs": [],
   "source": []
  }
 ],
 "metadata": {
  "kernelspec": {
   "display_name": "base",
   "language": "python",
   "name": "python3"
  },
  "language_info": {
   "codemirror_mode": {
    "name": "ipython",
    "version": 3
   },
   "file_extension": ".py",
   "mimetype": "text/x-python",
   "name": "python",
   "nbconvert_exporter": "python",
   "pygments_lexer": "ipython3",
   "version": "3.12.8"
  }
 },
 "nbformat": 4,
 "nbformat_minor": 2
}
