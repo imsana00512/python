{
 "cells": [
  {
   "cell_type": "code",
   "execution_count": 2,
   "metadata": {},
   "outputs": [],
   "source": [
    "import math"
   ]
  },
  {
   "cell_type": "code",
   "execution_count": 3,
   "metadata": {},
   "outputs": [
    {
     "name": "stdout",
     "output_type": "stream",
     "text": [
      "25.0\n",
      "125.0\n",
      "-0.4480736161291701\n",
      "-0.9938886539233752\n",
      "1.0\n",
      "5729.5779513082325\n",
      "2.080083823051904\n",
      "3.141592653589793\n",
      "3\n",
      "552\n"
     ]
    }
   ],
   "source": [
    "print(math.sqrt(625))\n",
    "print(math.pow(5,3))\n",
    "print(math.cos(90))\n",
    "print(math.sin(80))\n",
    "print(math.log10(10))\n",
    "print(math.degrees(100))\n",
    "print(math.cbrt(9))\n",
    "print(math.pi)\n",
    "print(math.gcd(12,45))\n",
    "print(math.lcm(24,46))"
   ]
  },
  {
   "cell_type": "code",
   "execution_count": 4,
   "metadata": {},
   "outputs": [
    {
     "name": "stdout",
     "output_type": "stream",
     "text": [
      "get a random number between 0 and 1: 0.7626713002409872\n"
     ]
    }
   ],
   "source": [
    "from random import random, randint, choice, shuffle\n",
    "print('get a random number between 0 and 1:', random())"
   ]
  },
  {
   "cell_type": "code",
   "execution_count": 5,
   "metadata": {},
   "outputs": [
    {
     "name": "stdout",
     "output_type": "stream",
     "text": [
      "get a randint number between 1 and 100: 23\n"
     ]
    }
   ],
   "source": [
    "print('get a randint number between 1 and 100:', randint(1,100))"
   ]
  },
  {
   "cell_type": "code",
   "execution_count": 6,
   "metadata": {},
   "outputs": [
    {
     "name": "stdout",
     "output_type": "stream",
     "text": [
      "get a random element from a list: 3\n",
      "shuffle a list: ['david', 'alice', 'bob', 'charlie', 'eve']\n"
     ]
    }
   ],
   "source": [
    "print('get a random element from a list:', choice([1,2,3,4,5]))\n",
    "names = ['alice','bob','charlie','david','eve']\n",
    "shuffle(names)\n",
    "print('shuffle a list:', names)"
   ]
  },
  {
   "cell_type": "code",
   "execution_count": 7,
   "metadata": {},
   "outputs": [],
   "source": [
    "from datetime import datetime as dt"
   ]
  },
  {
   "cell_type": "code",
   "execution_count": 8,
   "metadata": {},
   "outputs": [
    {
     "name": "stdout",
     "output_type": "stream",
     "text": [
      "current date and time: 2025-02-07 16:51:43.057252\n"
     ]
    }
   ],
   "source": [
    "print(\"current date and time:\", dt.now())"
   ]
  },
  {
   "cell_type": "code",
   "execution_count": 9,
   "metadata": {},
   "outputs": [
    {
     "name": "stdout",
     "output_type": "stream",
     "text": [
      "current date and time: 2025\n",
      "current  month: 2\n",
      "current day: 7\n",
      "current hour: 16\n",
      "current minute: 51\n"
     ]
    }
   ],
   "source": [
    "print(\"current date and time:\", dt.now().year)\n",
    "print(\"current  month:\", dt.now().month)\n",
    "print(\"current day:\", dt.now().day)\n",
    "print(\"current hour:\", dt.now().hour)\n",
    "print(\"current minute:\", dt.now().minute)\n"
   ]
  },
  {
   "cell_type": "markdown",
   "metadata": {},
   "source": [
    "os libraries"
   ]
  },
  {
   "cell_type": "code",
   "execution_count": 10,
   "metadata": {},
   "outputs": [],
   "source": [
    "import os"
   ]
  },
  {
   "cell_type": "code",
   "execution_count": 11,
   "metadata": {},
   "outputs": [
    {
     "name": "stdout",
     "output_type": "stream",
     "text": [
      "current working directory: c:\\Users\\SANA FATIMA\\Documents\\python programming\\data structure\n"
     ]
    }
   ],
   "source": [
    "print('current working directory:', os.getcwd())"
   ]
  },
  {
   "cell_type": "code",
   "execution_count": 12,
   "metadata": {},
   "outputs": [
    {
     "name": "stdout",
     "output_type": "stream",
     "text": [
      "files in the current directory: ['dictionary.ipynb', 'functions.ipynb', 'libraries.ipynb', 'list.ipynb', 'sets.ipynb', 'string.ipynb']\n",
      "6 files found\n"
     ]
    }
   ],
   "source": [
    "files = os.listdir()\n",
    "print('files in the current directory:', files)\n",
    "print(len(files), 'files found')"
   ]
  },
  {
   "cell_type": "code",
   "execution_count": 13,
   "metadata": {},
   "outputs": [
    {
     "name": "stdout",
     "output_type": "stream",
     "text": [
      "files in the directory: ['.git', 'basicpython.ipynb', 'conditions.ipynb', 'data structure', 'datatypes.ipynb', 'loops.ipynb', 'operators.ipynb']\n"
     ]
    }
   ],
   "source": [
    "files = os.listdir(r\"C:\\Users\\SANA FATIMA\\Documents\\python programming\")\n",
    "print(\"files in the directory:\", files)\n",
    "                "
   ]
  },
  {
   "cell_type": "code",
   "execution_count": 14,
   "metadata": {},
   "outputs": [
    {
     "name": "stdout",
     "output_type": "stream",
     "text": [
      "\n"
     ]
    }
   ],
   "source": [
    "total_files=0\n",
    "for path,folders,files in os.walk(\"c:\"):\n",
    "    print()"
   ]
  },
  {
   "cell_type": "code",
   "execution_count": 16,
   "metadata": {},
   "outputs": [
    {
     "name": "stdout",
     "output_type": "stream",
     "text": [
      "C:\\Users\\SANA FATIMA\\Documents\\python programming exists\n"
     ]
    }
   ],
   "source": [
    "file = r\"C:\\Users\\SANA FATIMA\\Documents\\python programming\"\n",
    "if os.path.exists(file):\n",
    "    print(file, 'exists')\n",
    "else:\n",
    "    print(file, 'does not exist')"
   ]
  },
  {
   "cell_type": "code",
   "execution_count": null,
   "metadata": {},
   "outputs": [],
   "source": [
    "files = r\"C:\\Users\\SANA FATIMA\\Documents\\python programming\"\n",
    "if os.path.exists(files):\n",
    "    print(\"folder exists\")\n",
    "    size = os.path.getsize(files)\n",
    "    print('folder size:', size,'bytes')\n",
    "    print('folder size in kb:',size/1024,'KB')\n",
    "    print('folder size in MB:',size/1024/1024,'KB')\n",
    "    print('folder size in kb:',size/1024/2024/2024'KB')\n",
    "    "
   ]
  }
 ],
 "metadata": {
  "kernelspec": {
   "display_name": "base",
   "language": "python",
   "name": "python3"
  },
  "language_info": {
   "codemirror_mode": {
    "name": "ipython",
    "version": 3
   },
   "file_extension": ".py",
   "mimetype": "text/x-python",
   "name": "python",
   "nbconvert_exporter": "python",
   "pygments_lexer": "ipython3",
   "version": "3.12.8"
  }
 },
 "nbformat": 4,
 "nbformat_minor": 2
}
