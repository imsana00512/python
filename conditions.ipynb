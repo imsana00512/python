{
 "cells": [
  {
   "cell_type": "code",
   "execution_count": 4,
   "metadata": {},
   "outputs": [
    {
     "name": "stdout",
     "output_type": "stream",
     "text": [
      "A\n",
      "B\n"
     ]
    }
   ],
   "source": [
    "marks = int(input(\"enter a number:\"))\n",
    "if marks >= 90:\n",
    "    print(\"A+\")\n",
    "if marks >= 70:\n",
    "    print(\"A\")\n",
    "if marks >= 60:\n",
    "    print(\"B\")\n",
    "if marks <60:\n",
    "    print(\"fail\")\n"
   ]
  },
  {
   "cell_type": "code",
   "execution_count": 2,
   "metadata": {},
   "outputs": [
    {
     "name": "stdout",
     "output_type": "stream",
     "text": [
      "A\n"
     ]
    }
   ],
   "source": [
    "marks = int(input(\"enter a number:\"))\n",
    "if marks >= 90:\n",
    "    print(\"A+\")\n",
    "elif marks >= 70:\n",
    "    print(\"A\")\n",
    "elif marks >= 60:\n",
    "    print(\"B\")\n",
    "elif marks <60:\n",
    "    print(\"fail\")\n",
    "else:\n",
    "    print(\"invalid input\")\n"
   ]
  },
  {
   "cell_type": "code",
   "execution_count": 7,
   "metadata": {},
   "outputs": [
    {
     "name": "stdout",
     "output_type": "stream",
     "text": [
      "you are eligible for vote\n"
     ]
    }
   ],
   "source": [
    "age = 20\n",
    "if age >= 18:\n",
    "    print(\"you are eligible for vote\")\n",
    "else:\n",
    "    print(\"you are not eligible for vote\")"
   ]
  },
  {
   "cell_type": "code",
   "execution_count": 26,
   "metadata": {},
   "outputs": [
    {
     "name": "stdout",
     "output_type": "stream",
     "text": [
      "vowel\n"
     ]
    }
   ],
   "source": [
    "character = input(\"enter any character\")\n",
    "if character in \"a,i,o,u,e\":\n",
    "    print(\"vowel\")\n",
    "else:\n",
    "    print(\"consonant\")"
   ]
  },
  {
   "cell_type": "code",
   "execution_count": 2,
   "metadata": {},
   "outputs": [
    {
     "name": "stdout",
     "output_type": "stream",
     "text": [
      "even\n"
     ]
    }
   ],
   "source": [
    "num = int(input(\"enter a num\"))\n",
    "if num/2:\n",
    "    print(\"even\")\n",
    "else:\n",
    "    print(\"odd\")"
   ]
  },
  {
   "cell_type": "code",
   "execution_count": 5,
   "metadata": {},
   "outputs": [
    {
     "name": "stdout",
     "output_type": "stream",
     "text": [
      "its -ve\n"
     ]
    }
   ],
   "source": [
    "num = int(input(\"enter a number\"))\n",
    "if num>0:\n",
    "    print(\"its +ve\")\n",
    "else:\n",
    "    print(\"its -ve\")"
   ]
  },
  {
   "cell_type": "code",
   "execution_count": 9,
   "metadata": {},
   "outputs": [
    {
     "name": "stdout",
     "output_type": "stream",
     "text": [
      "area of circle is: 9847.04\n"
     ]
    }
   ],
   "source": [
    "r = int(input(\"enter a value\"))\n",
    "area = 3.14*r*r\n",
    "print(\"area of circle is:\",area)"
   ]
  },
  {
   "cell_type": "code",
   "execution_count": 11,
   "metadata": {},
   "outputs": [
    {
     "name": "stdout",
     "output_type": "stream",
     "text": [
      "not equal\n"
     ]
    }
   ],
   "source": [
    "l1 = int(input(\"enter a number\"))\n",
    "b2 = int(input(\"enter a number\"))\n",
    "if s1==s2:\n",
    "    print(\"equal\")\n",
    "else:\n",
    "    print(\"not equal\")"
   ]
  },
  {
   "cell_type": "markdown",
   "metadata": {},
   "source": [
    "\n",
    "9"
   ]
  },
  {
   "cell_type": "markdown",
   "metadata": {},
   "source": [
    "if condition 1:\n",
    "if condition 2:\n",
    "if condition 3:\n",
    "  print()\n",
    "else:\n",
    "  print()\n",
    "else:\n",
    "  print()"
   ]
  },
  {
   "cell_type": "code",
   "execution_count": 4,
   "metadata": {},
   "outputs": [
    {
     "name": "stdout",
     "output_type": "stream",
     "text": [
      "hurray!you are registered🤩\n"
     ]
    }
   ],
   "source": [
    "username = input(\"enter username\")\n",
    "email = input(\"enter email\")\n",
    "password = input(\"enter password\")\n",
    "cpassword = input(\"enter cpassword\")\n",
    "\n",
    "if len(username)>5 and len(username)<20:\n",
    "    if \"@\" in email and len(email)<30:\n",
    "        if len(password)>=8 and len(password)<20:\n",
    "            if password == cpassword:\n",
    "                print(\"hurray!you are registered🤩\")\n",
    "            else:\n",
    "                print(\"password does not match🥲\")\n",
    "        else:\n",
    "            print(\"password should be between 8 to 20 characters🤦‍♂️🤦‍♀️🤦‍♂️\")\n",
    "    else:\n",
    "        print(\"invalid email😫\")\n",
    "else:\n",
    "    print(\"invalid username😭\")\n",
    "    "
   ]
  },
  {
   "cell_type": "code",
   "execution_count": 1,
   "metadata": {},
   "outputs": [
    {
     "name": "stdout",
     "output_type": "stream",
     "text": [
      "hurray!you are registered\n"
     ]
    }
   ],
   "source": [
    "name = input(\"enter a name\")\n",
    "username = input(\"enter a username\")\n",
    "email = input(\"enter a email\")\n",
    "password = input(\"enter a password\")\n",
    "cpassword = input(\"enter a cpassword\")\n",
    "if len(name)>5 and len(name)<10:\n",
    "    if len(username)>5 and len(username)<15:\n",
    "        if \"@\" in email and len(email)<30:\n",
    "            if len(password)>=8 and len(password)<20:\n",
    "                if password==cpassword:\n",
    "                    print(\"hurray!you are registered\")\n",
    "                else:\n",
    "                    print(\"password does not match\")\n",
    "            else:\n",
    "                print(\"password should be 8 to 20 characters\")\n",
    "        else:\n",
    "            print(\"invalid email\")\n",
    "    else:\n",
    "        print(\"invalid username\")\n",
    "else:\n",
    "    print(\"wrong name\")"
   ]
  }
 ],
 "metadata": {
  "kernelspec": {
   "display_name": "base",
   "language": "python",
   "name": "python3"
  },
  "language_info": {
   "codemirror_mode": {
    "name": "ipython",
    "version": 3
   },
   "file_extension": ".py",
   "mimetype": "text/x-python",
   "name": "python",
   "nbconvert_exporter": "python",
   "pygments_lexer": "ipython3",
   "version": "3.12.8"
  }
 },
 "nbformat": 4,
 "nbformat_minor": 2
}
